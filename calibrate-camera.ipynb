{
 "cells": [
  {
   "cell_type": "markdown",
   "metadata": {},
   "source": [
    "## Advanced Lane Finding Project\n",
    "\n",
    "The goals / steps of this project are the following:\n",
    "\n",
    "* Compute the camera calibration matrix and distortion coefficients given a set of chessboard images.\n",
    "* Apply a distortion correction to raw images.\n",
    "* Use color transforms, gradients, etc., to create a thresholded binary image.\n",
    "* Apply a perspective transform to rectify binary image (\"birds-eye view\").\n",
    "* Detect lane pixels and fit to find the lane boundary.\n",
    "* Determine the curvature of the lane and vehicle position with respect to center.\n",
    "* Warp the detected lane boundaries back onto the original image.\n",
    "* Output visual display of the lane boundaries and numerical estimation of lane curvature and vehicle position.\n",
    "\n",
    "---\n",
    "## Compute the camera calibration matrix and distortion coefficients given a set of chessboard images."
   ]
  },
  {
   "cell_type": "code",
   "execution_count": null,
   "metadata": {
    "collapsed": true
   },
   "outputs": [],
   "source": [
    "import pickle as pickle_module\n",
    "import os\n",
    "import numpy as np\n",
    "import glob\n",
    "import cv2\n",
    "from scipy.misc import imread, imresize\n",
    "import matplotlib.pyplot as plt\n",
    "\n",
    "get_ipython().magic('matplotlib inline')"
   ]
  },
  {
   "cell_type": "markdown",
   "metadata": {},
   "source": [
    "## Camera calibration class"
   ]
  },
  {
   "cell_type": "code",
   "execution_count": null,
   "metadata": {
    "collapsed": false
   },
   "outputs": [],
   "source": [
    "IMAGE_SIZE = (1280, 720)\n",
    "CALIBRATION_IMAGE_SIZE = (720, 1280, 3)\n",
    "CALIBRATION_PICKLE_FILE = 'camera_calibration.pkl'\n",
    "IMAGES_PATH = 'camera_cal/calibration*.jpg'\n",
    "CHESSBOARD_ROWS = 6\n",
    "CHESSBOARD_COLS = 9\n",
    "\n",
    "class CameraCalibration:\n",
    "    def __init__(self, image_size=IMAGE_SIZE, calibration_file=CALIBRATION_PICKLE_FILE):\n",
    "        # Get camera calibration\n",
    "        points_object, points_image = (unpickle(calibration_file) if os.path.exists(calibration_file)\n",
    "                                       else self._calibrate())\n",
    "        # Get mtx and dist to undistorted new images\n",
    "        _, self.mtx, self.dist, _, _ = cv2.calibrateCamera(points_object, points_image, image_size, None, None)\n",
    "\n",
    "    def undistort(self, image):\n",
    "        return cv2.undistort(image, self.mtx, self.dist, None, self.mtx)\n",
    "    \n",
    "    def plot_images(self, image, image_path):\n",
    "        f, (ax1, ax2) = plt.subplots(1, 2, figsize=(24, 9))\n",
    "        f.suptitle(image_path, fontsize=50)\n",
    "        f.tight_layout()\n",
    "        ax1.imshow(image)\n",
    "        ax1.set_title('Original Image', fontsize=25)\n",
    "        undistorted_image = self.undistort(image)\n",
    "        ax2.imshow(undistorted_image)\n",
    "        ax2.set_title('Undistorted Image', fontsize=25)\n",
    "        plt.subplots_adjust(left=0., right=1, top=0.9, bottom=0.) \n",
    "    \n",
    "    @staticmethod\n",
    "    def _calibrate(images_path=IMAGES_PATH, chessboard_rows=CHESSBOARD_ROWS, chessboard_cols=CHESSBOARD_COLS,\n",
    "                   image_size=CALIBRATION_IMAGE_SIZE, calibration_pickle_file=CALIBRATION_PICKLE_FILE):\n",
    "        obj = np.zeros((chessboard_rows * chessboard_cols, 3), np.float32)\n",
    "        obj[:, :2] = np.mgrid[:chessboard_cols, :chessboard_rows].T.reshape(-1, 2)\n",
    "\n",
    "        object_points = []\n",
    "        image_points = []\n",
    "\n",
    "        images = glob.glob(images_path)\n",
    "\n",
    "        for image in images:\n",
    "            image_array = imread(image)\n",
    "            if image_array.shape != image_size:\n",
    "                image_array = imresize(image_array, image_size)\n",
    "            gray = cv2.cvtColor(image_array, cv2.COLOR_RGB2GRAY)\n",
    "            ret, corners = cv2.findChessboardCorners(gray, (chessboard_cols, chessboard_rows), None)\n",
    "\n",
    "            if ret:\n",
    "                object_points.append(obj)\n",
    "                image_points.append(corners)\n",
    "\n",
    "        calibration = (object_points, image_points)\n",
    "        pickle(calibration, calibration_pickle_file)\n",
    "        return calibration\n",
    "\n",
    "\n",
    "def unpickle(file_path):\n",
    "    with open(file_path, 'rb') as file_handle:\n",
    "        pickled_object = pickle_module.load(file_handle)\n",
    "        return pickled_object\n",
    "\n",
    "\n",
    "def pickle(object_to_pickle, file_path):\n",
    "    with open(file_path, 'wb') as file_handle:\n",
    "        pickle_module.dump(object_to_pickle, file_handle)"
   ]
  },
  {
   "cell_type": "code",
   "execution_count": null,
   "metadata": {
    "collapsed": false
   },
   "outputs": [],
   "source": [
    "calibration = CameraCalibration()"
   ]
  },
  {
   "cell_type": "code",
   "execution_count": null,
   "metadata": {
    "collapsed": true
   },
   "outputs": [],
   "source": [
    "### Display Original and Calibrated Images side by side"
   ]
  },
  {
   "cell_type": "code",
   "execution_count": null,
   "metadata": {
    "collapsed": false
   },
   "outputs": [],
   "source": [
    "\n",
    "images = glob.glob('camera_cal/calibration*.jpg')\n",
    "i = 0;\n",
    "for image_path in images:\n",
    "    img = cv2.imread(image_path)\n",
    "    if i == 1 : break\n",
    "    \n",
    "    calibration.plot_images(img, image_path)\n",
    "    i+=1"
   ]
  },
  {
   "cell_type": "code",
   "execution_count": null,
   "metadata": {
    "collapsed": true
   },
   "outputs": [],
   "source": []
  }
 ],
 "metadata": {
  "anaconda-cloud": {},
  "kernelspec": {
   "display_name": "Python 3",
   "language": "python",
   "name": "python3"
  },
  "language_info": {
   "codemirror_mode": {
    "name": "ipython",
    "version": 3
   },
   "file_extension": ".py",
   "mimetype": "text/x-python",
   "name": "python",
   "nbconvert_exporter": "python",
   "pygments_lexer": "ipython3",
   "version": "3.5.2"
  },
  "widgets": {
   "state": {},
   "version": "1.1.2"
  }
 },
 "nbformat": 4,
 "nbformat_minor": 1
}
